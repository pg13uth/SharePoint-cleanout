{
 "cells": [
  {
   "cell_type": "code",
   "execution_count": 65,
   "metadata": {
    "scrolled": true
   },
   "outputs": [],
   "source": [
    "from pathlib import Path\n",
    "import os, time, sys\n",
    "\n",
    "filesPath = r\"\\\\insert file path here\"\n",
    "now = time.time()\n",
    "\n",
    "criticalTime = now - 365*3*86400\n",
    "\n",
    "for item in Path(filesPath).glob('*'):\n",
    "    if item.is_file():\n",
    "        itemTime = os.stat(item).st_ctime\n",
    "        if itemTime < criticalTime:\n",
    "            print (str(item.absolute()))\n",
    "            Path.unlink(item)\n",
    "            pass\n",
    "   "
   ]
  }
 ],
 "metadata": {
  "kernelspec": {
   "display_name": "Python 3",
   "language": "python",
   "name": "python3"
  },
  "language_info": {
   "codemirror_mode": {
    "name": "ipython",
    "version": 3
   },
   "file_extension": ".py",
   "mimetype": "text/x-python",
   "name": "python",
   "nbconvert_exporter": "python",
   "pygments_lexer": "ipython3",
   "version": "3.7.0"
  }
 },
 "nbformat": 4,
 "nbformat_minor": 2
}
